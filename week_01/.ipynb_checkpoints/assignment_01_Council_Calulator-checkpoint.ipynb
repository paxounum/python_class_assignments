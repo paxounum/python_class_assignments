{
 "cells": [
  {
   "cell_type": "markdown",
   "metadata": {},
   "source": [
    "### Assignment 1: Create your own calculator!"
   ]
  },
  {
   "cell_type": "markdown",
   "metadata": {},
   "source": [
    "Before we actually code in Python, please write out how you might build this with code in plain English (pseudocoding!). Pseudocode is an important part of programming and is used in planning an algorithm with sketching out the structure of the program before the actual coding takes place."
   ]
  },
  {
   "cell_type": "code",
   "execution_count": 2,
   "metadata": {},
   "outputs": [],
   "source": [
    "# example psuedocode:\n",
    "# 1. A calculator will take in numbers that we want to use the operators on. So we want store user input\n",
    "# in variables. The first variable will store the first number, the second one will store the second number, \n",
    "# and the third will store the mathematical operator the user wants to perform on these numbers.\n",
    "\n",
    "#1. I will define a the calculator by defining a function using def calc()\n",
    "#2. Calculator will take input from user for first variable as x. \n",
    "#   It will move forward if the input is an integer or decimal number.\n",
    "#3. Calculator will take input for second variable as y.\n",
    "#   It will move forward if the input is an integer or decimal number.\n",
    "#4. Calc will take input for the operator. \n",
    "#5. Calc will spit out solution."
   ]
  },
  {
   "cell_type": "markdown",
   "metadata": {},
   "source": [
    "__Using conditionals, operators, and functions, try creating a working calculator! We will go over the solution next week.__\n",
    "\n",
    "_Things to consider:_\n",
    "\n",
    "<li>You may want to ask for user input: use the Python input() method. If you're asking for numbers, you may need to change the input value from a string to a number. Consider using int(x) and float(x) to do so.</li>\n",
    "<li>Use the operators with the conditionals we learned in class! Ex) if user_input == '*': print(x * y) </li>\n",
    "<li>Use if...elif conditionals!</li>\n",
    "<li>Before you put your code into a function for reusability purposes, hard code first to make sure your logic is working</li>\n",
    "<li>Keep it simple and use the four operators we went over in class: +, -, *, /</li>"
   ]
  },
  {
   "cell_type": "code",
   "execution_count": 5,
   "metadata": {},
   "outputs": [],
   "source": [
    "# code down here:\n",
    "\n",
    "def calc():\n",
    "    print('''Welcome to the future, human.\n",
    "This is a simple calculator.\n",
    "As in, it is simply going to take longer than usual\n",
    "for the Council to get your solution. Buckle in.\n",
    "...\n",
    "''')\n",
    "    x = float(input('Please enter your first number... '))\n",
    "    print(x)\n",
    "    y = float(input('Please enter your second number... '))\n",
    "    print(y)\n",
    "    z = input('''Please enter your operator:\n",
    "    + to add\n",
    "    - to subtract\n",
    "    * to multiply\n",
    "    / to divide\n",
    "    :P to be a jerk\n",
    "    ''')\n",
    "    if z == '+':\n",
    "        print('The council has decided your solution is...')\n",
    "        print(x+y)\n",
    "        encore = input('Do you seek another answer? y/n: ')\n",
    "        if encore == 'y':\n",
    "            calc_encore()\n",
    "        else:\n",
    "            print('''\n",
    "            Addaboy...''')\n",
    "    elif z == \"-\":\n",
    "        print('The council has decided your solution is...')\n",
    "        print(x-y)\n",
    "        encore = input('Do you seek another answer? y/n: ')\n",
    "        if encore == 'y':\n",
    "            calc_encore()\n",
    "        else:\n",
    "            print('''\n",
    "            Hmm...less than I thought...''')\n",
    "    elif z == \"*\":\n",
    "        print('The council has decided your solution is...')\n",
    "        print(x*y)\n",
    "        encore = input('Do you seek another answer? y/n: ')\n",
    "        if encore == 'y':\n",
    "            calc_encore()\n",
    "        else:\n",
    "            print('''\n",
    "            Pft, pearls before swine...''')\n",
    "    elif z == \"/\":\n",
    "        print('The council has decided your solution is...')\n",
    "        print(x/y)\n",
    "        encore = input('Do you seek another answer? y/n: ')\n",
    "        if encore == 'y':\n",
    "            calc_encore()\n",
    "        else:\n",
    "            print(\"Divided and conquered.\")\n",
    "    elif z == \":P\":\n",
    "        print('The council has decided your solution is...')\n",
    "        print('...EXILE!')\n",
    "        encore = input('Do you seek another answer? y/n: ')\n",
    "        if encore == 'y':\n",
    "            calc_encore()\n",
    "        else:\n",
    "            print('''\n",
    "            See ya...never.''')\n",
    "    else:\n",
    "        print('Maybe we should try that again, human...')\n",
    "        calc_encore()\n",
    "        \n",
    "def calc_encore():\n",
    "     print('''Let me see\n",
    "if I can gather \n",
    "the Council again.\n",
    "Hold on, human...\n",
    "...''')\n",
    "    \n",
    "     calc()"
   ]
  },
  {
   "cell_type": "code",
   "execution_count": 4,
   "metadata": {},
   "outputs": [
    {
     "name": "stdout",
     "output_type": "stream",
     "text": [
      "Welcome to the future, human.\n",
      "This is a simple calculator.\n",
      "As in, it is simply going to take longer than usual\n",
      "for the Council to get your solution. Buckle in.\n",
      "...\n",
      "\n",
      "Please enter your first number... 34\n",
      "34.0\n",
      "Please enter your second number... 23\n",
      "23.0\n",
      "Please enter your operator:\n",
      "    + to add\n",
      "    - to subtract\n",
      "    * to multiply\n",
      "    / to divide\n",
      "    :P to be a jerk\n",
      "    +\n",
      "The council has decided your solution is...\n",
      "57.0\n",
      "Do you seek another answer? y/n: n\n",
      "\n",
      "            Communication terminated.\n"
     ]
    }
   ],
   "source": [
    "calc()"
   ]
  },
  {
   "cell_type": "code",
   "execution_count": null,
   "metadata": {},
   "outputs": [],
   "source": []
  }
 ],
 "metadata": {
  "kernelspec": {
   "display_name": "Python 3",
   "language": "python",
   "name": "python3"
  },
  "language_info": {
   "codemirror_mode": {
    "name": "ipython",
    "version": 3
   },
   "file_extension": ".py",
   "mimetype": "text/x-python",
   "name": "python",
   "nbconvert_exporter": "python",
   "pygments_lexer": "ipython3",
   "version": "3.7.6"
  }
 },
 "nbformat": 4,
 "nbformat_minor": 4
}
