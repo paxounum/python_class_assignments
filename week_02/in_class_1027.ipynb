{
 "cells": [
  {
   "cell_type": "markdown",
   "metadata": {},
   "source": [
    "### This notebook was created the first day of class.\n",
    "\n",
    "<p> This was the first week of class. </p>"
   ]
  },
  {
   "cell_type": "code",
   "execution_count": 1,
   "metadata": {},
   "outputs": [
    {
     "name": "stdout",
     "output_type": "stream",
     "text": [
      "Hello World!\n"
     ]
    }
   ],
   "source": [
    "print('Hello World!')"
   ]
  },
  {
   "cell_type": "code",
   "execution_count": 2,
   "metadata": {},
   "outputs": [
    {
     "name": "stdout",
     "output_type": "stream",
     "text": [
      "Hello World\n",
      "<class 'str'>\n"
     ]
    }
   ],
   "source": [
    "print('Hello World')\n",
    "print(type('Hello World'))"
   ]
  },
  {
   "cell_type": "code",
   "execution_count": 3,
   "metadata": {},
   "outputs": [
    {
     "name": "stdout",
     "output_type": "stream",
     "text": [
      "\n",
      "Hello!\n",
      "Welcome to a new method!\n",
      "What will you learn?\n"
     ]
    }
   ],
   "source": [
    "#block strings, using triple quotes\n",
    "print('''\n",
    "Hello!\n",
    "Welcome to a new method!\n",
    "What will you learn?''')"
   ]
  },
  {
   "cell_type": "code",
   "execution_count": 5,
   "metadata": {},
   "outputs": [
    {
     "name": "stdout",
     "output_type": "stream",
     "text": [
      "['cheese,', 'wine', 'glassware']\n",
      "<class 'list'>\n"
     ]
    }
   ],
   "source": [
    "#lists\n",
    "#lists are created using square brackets\n",
    "print(['cheese,', 'wine', 'glassware'])\n",
    "print(type(['cheese,', 'wine', 'glassware']))"
   ]
  },
  {
   "cell_type": "code",
   "execution_count": 13,
   "metadata": {},
   "outputs": [
    {
     "name": "stdout",
     "output_type": "stream",
     "text": [
      "{'name': 'Jason', 'role': 'student'}\n",
      "<class 'dict'>\n"
     ]
    }
   ],
   "source": [
    "#dictionaries use colons to connect variables with defintions \n",
    "#within moustache brackets\n",
    "first_dict = {'name':'Jason', 'role':'student'}\n",
    "print(first_dict)\n",
    "print(type(first_dict))"
   ]
  },
  {
   "cell_type": "code",
   "execution_count": null,
   "metadata": {},
   "outputs": [],
   "source": []
  },
  {
   "cell_type": "code",
   "execution_count": null,
   "metadata": {},
   "outputs": [],
   "source": []
  }
 ],
 "metadata": {
  "kernelspec": {
   "display_name": "Python 3",
   "language": "python",
   "name": "python3"
  },
  "language_info": {
   "codemirror_mode": {
    "name": "ipython",
    "version": 3
   },
   "file_extension": ".py",
   "mimetype": "text/x-python",
   "name": "python",
   "nbconvert_exporter": "python",
   "pygments_lexer": "ipython3",
   "version": "3.7.6"
  }
 },
 "nbformat": 4,
 "nbformat_minor": 4
}
