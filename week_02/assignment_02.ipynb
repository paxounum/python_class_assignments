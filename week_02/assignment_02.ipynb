{
 "cells": [
  {
   "cell_type": "markdown",
   "metadata": {},
   "source": [
    "# Practice Exercise"
   ]
  },
  {
   "cell_type": "markdown",
   "metadata": {},
   "source": [
    "Exercise 1:"
   ]
  },
  {
   "cell_type": "code",
   "execution_count": null,
   "metadata": {},
   "outputs": [],
   "source": [
    "# using functions and nested functions reformat your calculator code\n",
    "# so users can use our calculator again and again!"
   ]
  },
  {
   "cell_type": "code",
   "execution_count": 1,
   "metadata": {},
   "outputs": [],
   "source": [
    "#Council Calculator, with repeatable tasks\n",
    "\n",
    "def calc():\n",
    "    print('''Welcome to the future, human.\n",
    "This is a simple calculator.\n",
    "As in, it is simply going to take longer than usual\n",
    "for the Council to get your solution. Buckle in.\n",
    "...\n",
    "''')\n",
    "    x = float(input('Please enter your first number... '))\n",
    "    print(x)\n",
    "    y = float(input('Please enter your second number... '))\n",
    "    print(y)\n",
    "    z = input('''Please enter your operator:\n",
    "    + to add\n",
    "    - to subtract\n",
    "    * to multiply\n",
    "    / to divide\n",
    "    :P to be a jerk\n",
    "    ''')\n",
    "    if z == '+':\n",
    "        print('The council has decided your solution is...')\n",
    "        print(x+y)\n",
    "        encore = input('Do you seek another answer? y/n: ')\n",
    "        if encore == 'y':\n",
    "            calc_encore()\n",
    "        else:\n",
    "            print('''\n",
    "            Addaboy...''')\n",
    "    elif z == \"-\":\n",
    "        print('The council has decided your solution is...')\n",
    "        print(x-y)\n",
    "        encore = input('Do you seek another answer? y/n: ')\n",
    "        if encore == 'y':\n",
    "            calc_encore()\n",
    "        else:\n",
    "            print('''\n",
    "            Hmm...less than I thought...''')\n",
    "    elif z == \"*\":\n",
    "        print('The council has decided your solution is...')\n",
    "        print(x*y)\n",
    "        encore = input('Do you seek another answer? y/n: ')\n",
    "        if encore == 'y':\n",
    "            calc_encore()\n",
    "        else:\n",
    "            print('''\n",
    "            Pft, pearls before swine...''')\n",
    "    elif z == \"/\":\n",
    "        print('The council has decided your solution is...')\n",
    "        print(x/y)\n",
    "        encore = input('Do you seek another answer? y/n: ')\n",
    "        if encore == 'y':\n",
    "            calc_encore()\n",
    "        else:\n",
    "            print(\"Divided and conquered.\")\n",
    "    elif z == \":P\":\n",
    "        print('The council has decided your solution is...')\n",
    "        print('...EXILE!')\n",
    "        encore = input('Do you seek another answer? y/n: ')\n",
    "        if encore == 'y':\n",
    "            calc_encore()\n",
    "        else:\n",
    "            print('''\n",
    "            See ya...never.''')\n",
    "    else:\n",
    "        print('Maybe we should try that again, human...')\n",
    "        calc_encore()\n",
    "        \n",
    "def calc_encore():\n",
    "     print('''Let me see\n",
    "if I can gather \n",
    "the Council again.\n",
    "Hold on, human...\n",
    "...''')\n",
    "    \n",
    "     calc()"
   ]
  },
  {
   "cell_type": "code",
   "execution_count": 2,
   "metadata": {},
   "outputs": [
    {
     "name": "stdout",
     "output_type": "stream",
     "text": [
      "Welcome to the future, human.\n",
      "This is a simple calculator.\n",
      "As in, it is simply going to take longer than usual\n",
      "for the Council to get your solution. Buckle in.\n",
      "...\n",
      "\n",
      "Please enter your first number... 3\n",
      "3.0\n",
      "Please enter your second number... 4\n",
      "4.0\n",
      "Please enter your operator:\n",
      "    + to add\n",
      "    - to subtract\n",
      "    * to multiply\n",
      "    / to divide\n",
      "    :P to be a jerk\n",
      "    +\n",
      "The council has decided your solution is...\n",
      "7.0\n",
      "Do you seek another answer? y/n: n\n",
      "\n",
      "            Addaboy...\n"
     ]
    }
   ],
   "source": [
    "calc()"
   ]
  },
  {
   "cell_type": "markdown",
   "metadata": {},
   "source": [
    "Exercise 2:"
   ]
  },
  {
   "cell_type": "code",
   "execution_count": 1,
   "metadata": {},
   "outputs": [],
   "source": [
    "# Print the first 10 natural numbers using a loop \n",
    "\n",
    "# Expected output: \n",
    "# 0\n",
    "# 1\n",
    "# 2\n",
    "# 3\n",
    "# 4\n",
    "# 5\n",
    "# 6\n",
    "# 7\n",
    "# 8\n",
    "# 9\n",
    "# 10"
   ]
  },
  {
   "cell_type": "markdown",
   "metadata": {},
   "source": [
    "Write your code below:"
   ]
  },
  {
   "cell_type": "code",
   "execution_count": 6,
   "metadata": {},
   "outputs": [
    {
     "name": "stdout",
     "output_type": "stream",
     "text": [
      "0\n",
      "1\n",
      "2\n",
      "3\n",
      "4\n",
      "5\n",
      "6\n",
      "7\n",
      "8\n",
      "9\n",
      "10\n"
     ]
    }
   ],
   "source": [
    "x = 0\n",
    "while x <= 10:\n",
    "    print(x)\n",
    "    x += 1"
   ]
  },
  {
   "cell_type": "markdown",
   "metadata": {},
   "source": [
    "Exercise 3:"
   ]
  },
  {
   "cell_type": "code",
   "execution_count": 1,
   "metadata": {},
   "outputs": [],
   "source": [
    "# Execute the loop in exercise 1 and print the message Done! after \n",
    "\n",
    "# Expected output: \n",
    "# 0\n",
    "# 1\n",
    "# 2\n",
    "# 3\n",
    "# 4\n",
    "# 5\n",
    "# 6\n",
    "# 7\n",
    "# 8\n",
    "# 9\n",
    "# 10\n",
    "# Done! "
   ]
  },
  {
   "cell_type": "markdown",
   "metadata": {},
   "source": [
    "Write your code below:"
   ]
  },
  {
   "cell_type": "code",
   "execution_count": 11,
   "metadata": {},
   "outputs": [
    {
     "name": "stdout",
     "output_type": "stream",
     "text": [
      "0\n",
      "1\n",
      "2\n",
      "3\n",
      "4\n",
      "5\n",
      "6\n",
      "7\n",
      "8\n",
      "9\n",
      "10\n",
      "Done!\n"
     ]
    }
   ],
   "source": [
    "x = 0\n",
    "while x <= 10:\n",
    "    print(x)\n",
    "    x += 1\n",
    "if x >= 10:\n",
    "    print('Done!')"
   ]
  },
  {
   "cell_type": "markdown",
   "metadata": {},
   "source": [
    "Exercise 4:"
   ]
  },
  {
   "cell_type": "code",
   "execution_count": 3,
   "metadata": {},
   "outputs": [],
   "source": [
    "# Print the numbers greater than 150 from the list \n",
    "\n",
    "# list = [12, 15, 47, 63, 78, 101, 157, 178, 189]\n",
    "# Expected output: \n",
    "\n",
    "# 157\n",
    "# 178 \n",
    "# 189 "
   ]
  },
  {
   "cell_type": "markdown",
   "metadata": {},
   "source": [
    "Write your code below:"
   ]
  },
  {
   "cell_type": "code",
   "execution_count": 17,
   "metadata": {},
   "outputs": [
    {
     "name": "stdout",
     "output_type": "stream",
     "text": [
      "[12, 15, 47, 63, 78, 101, 157, 178, 189]\n"
     ]
    }
   ],
   "source": [
    "#Defining list:\n",
    "my_list = [12, 15, 47, 63, 78, 101, 157, 178, 189]\n",
    "print(my_list)"
   ]
  },
  {
   "cell_type": "code",
   "execution_count": 22,
   "metadata": {},
   "outputs": [
    {
     "name": "stdout",
     "output_type": "stream",
     "text": [
      "[157, 178, 189]\n"
     ]
    }
   ],
   "source": [
    "#Cheap Shot\n",
    "print(my_list[-3:])"
   ]
  },
  {
   "cell_type": "code",
   "execution_count": 25,
   "metadata": {},
   "outputs": [
    {
     "name": "stdout",
     "output_type": "stream",
     "text": [
      "157\n",
      "178\n",
      "189\n"
     ]
    }
   ],
   "source": [
    "#Search and destroy\n",
    "for big in my_list:\n",
    "    if big > 150:\n",
    "        print(big)"
   ]
  },
  {
   "cell_type": "markdown",
   "metadata": {},
   "source": [
    "Exercise 5:"
   ]
  },
  {
   "cell_type": "code",
   "execution_count": 4,
   "metadata": {},
   "outputs": [],
   "source": [
    "# Print the number that is even and less than 150 \n",
    "\n",
    "# list = [12, 15, 47, 63, 78, 101, 157, 178, 189]\n",
    "# Expected output: \n",
    "\n",
    "# 12\n",
    "# 78\n",
    "\n",
    "# Hint: if you find a number greater than 150, stop the loop with a break"
   ]
  },
  {
   "cell_type": "markdown",
   "metadata": {},
   "source": [
    "Write your code below:"
   ]
  },
  {
   "cell_type": "code",
   "execution_count": 26,
   "metadata": {},
   "outputs": [
    {
     "name": "stdout",
     "output_type": "stream",
     "text": [
      "[12, 15, 47, 63, 78, 101, 157, 178, 189]\n"
     ]
    }
   ],
   "source": [
    "my_list2 = [12, 15, 47, 63, 78, 101, 157, 178, 189]\n",
    "print(my_list2)"
   ]
  },
  {
   "cell_type": "code",
   "execution_count": 56,
   "metadata": {},
   "outputs": [
    {
     "name": "stdout",
     "output_type": "stream",
     "text": [
      "12\n",
      "78\n"
     ]
    }
   ],
   "source": [
    "for steven in my_list2:\n",
    "    if steven < 150 and steven%2 == 0:\n",
    "        print(steven)"
   ]
  },
  {
   "cell_type": "markdown",
   "metadata": {},
   "source": [
    "Exercise 6:"
   ]
  },
  {
   "cell_type": "code",
   "execution_count": 5,
   "metadata": {},
   "outputs": [],
   "source": [
    "# This will be a challenging!\n",
    "\n",
    "# Write a while loop that flips a coin 10 times\n",
    "\n",
    "# Hint: Look into the random library using: \n",
    "# https://docs.python.org/3/library/random.html\n",
    "# https://www.pythonforbeginners.com/random/how-to-use-the-random-module-in-python"
   ]
  },
  {
   "cell_type": "markdown",
   "metadata": {},
   "source": [
    "Write your code below:"
   ]
  },
  {
   "cell_type": "code",
   "execution_count": 49,
   "metadata": {},
   "outputs": [
    {
     "name": "stdout",
     "output_type": "stream",
     "text": [
      "['heads', 'tails']\n"
     ]
    }
   ],
   "source": [
    "# importing the python random library\n",
    "import random\n",
    "coin = [\"heads\", \"tails\"]\n",
    "print(coin)\n"
   ]
  },
  {
   "cell_type": "code",
   "execution_count": 50,
   "metadata": {},
   "outputs": [
    {
     "data": {
      "text/plain": [
       "'heads'"
      ]
     },
     "execution_count": 50,
     "metadata": {},
     "output_type": "execute_result"
    }
   ],
   "source": [
    "random.choice(coin)"
   ]
  },
  {
   "cell_type": "code",
   "execution_count": 54,
   "metadata": {},
   "outputs": [
    {
     "name": "stdout",
     "output_type": "stream",
     "text": [
      "Flip it!...\n",
      "...heads\n",
      "Flip it!...\n",
      "...tails\n",
      "Flip it!...\n",
      "...tails\n",
      "Flip it!...\n",
      "...heads\n",
      "Flip it!...\n",
      "...tails\n",
      "Flip it!...\n",
      "...heads\n",
      "Flip it!...\n",
      "...tails\n",
      "Flip it!...\n",
      "...heads\n",
      "Flip it!...\n",
      "...tails\n",
      "Flip it!...\n",
      "...tails\n",
      "Flip it!...\n",
      "...heads\n"
     ]
    }
   ],
   "source": [
    "flip = 0\n",
    "while flip <= 10:\n",
    "    print('Flip it!...')\n",
    "    print('...' + random.choice(coin))\n",
    "    flip += 1"
   ]
  },
  {
   "cell_type": "code",
   "execution_count": null,
   "metadata": {},
   "outputs": [],
   "source": []
  }
 ],
 "metadata": {
  "kernelspec": {
   "display_name": "Python 3",
   "language": "python",
   "name": "python3"
  },
  "language_info": {
   "codemirror_mode": {
    "name": "ipython",
    "version": 3
   },
   "file_extension": ".py",
   "mimetype": "text/x-python",
   "name": "python",
   "nbconvert_exporter": "python",
   "pygments_lexer": "ipython3",
   "version": "3.7.6"
  }
 },
 "nbformat": 4,
 "nbformat_minor": 2
}
